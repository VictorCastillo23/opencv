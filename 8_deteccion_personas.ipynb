{
 "cells": [
  {
   "cell_type": "code",
   "execution_count": 1,
   "metadata": {},
   "outputs": [
    {
     "name": "stdout",
     "output_type": "stream",
     "text": [
      "WARNING:tensorflow:From c:\\Users\\omar_\\OneDrive\\Escritorio\\tutCV\\code\\entornoOCV\\Lib\\site-packages\\tf_keras\\src\\losses.py:2976: The name tf.losses.sparse_softmax_cross_entropy is deprecated. Please use tf.compat.v1.losses.sparse_softmax_cross_entropy instead.\n",
      "\n"
     ]
    }
   ],
   "source": [
    "from deepface import DeepFace\n",
    "import cv2\n",
    "import pyttsx3"
   ]
  },
  {
   "cell_type": "code",
   "execution_count": 2,
   "metadata": {},
   "outputs": [],
   "source": [
    "def reconocimiento(frame):\n",
    "    try:\n",
    "        recognition = DeepFace.find(frame,db_path='db',model_name='VGG-Face',silent=True)\n",
    "        print(recognition[0]['identity'][0])\n",
    "\n",
    "        recognition2 = recognition[0]['identity'][0]\n",
    "        nombre = recognition2.split('\\\\')[1].split('/')[0]\n",
    "        return nombre\n",
    "    except ValueError:\n",
    "        return 'Rostro No Detectado'\n",
    "    except KeyError:\n",
    "        return 'Rostro No Detectado'"
   ]
  },
  {
   "cell_type": "code",
   "execution_count": 3,
   "metadata": {},
   "outputs": [],
   "source": [
    "engine = pyttsx3.init()\n",
    "\n",
    "engine.setProperty('rate',125)"
   ]
  },
  {
   "cell_type": "code",
   "execution_count": 4,
   "metadata": {},
   "outputs": [],
   "source": [
    "def saludar(mensaje):\n",
    "    if mensaje != 'Rostro No Detectado':\n",
    "        engine.say('hola '+ mensaje)\n",
    "        engine.runAndWait()"
   ]
  },
  {
   "cell_type": "code",
   "execution_count": 5,
   "metadata": {},
   "outputs": [
    {
     "name": "stdout",
     "output_type": "stream",
     "text": [
      "db\\Victor\\victor1.jpg\n",
      "db\\Victor\\victor1.jpg\n",
      "db\\Victor\\victor1.jpg\n",
      "db\\Victor\\vic13.jpg\n",
      "db\\Victor\\vic9.jpeg\n",
      "db\\Victor\\victor1.jpg\n",
      "db\\Victor\\vic9.jpeg\n",
      "db\\Victor\\vic9.jpeg\n",
      "db\\Victor\\vic6.jpeg\n",
      "db\\Victor\\victor1.jpg\n",
      "db\\Victor\\vic11.jpeg\n",
      "db\\Victor\\victor1.jpg\n",
      "db\\Victor\\vic13.jpg\n",
      "db\\Victor\\vic13.jpg\n",
      "db\\messi\\messi7.jpeg\n",
      "db\\messi\\messi4.jpeg\n",
      "db\\Victor\\victor1.jpg\n",
      "db\\Victor\\victor1.jpg\n",
      "db\\Victor\\victor1.jpg\n",
      "db\\Victor\\victor1.jpg\n",
      "db\\la roca\\roca10.jpeg\n",
      "db\\Victor\\victor1.jpg\n",
      "db\\Victor\\victor1.jpg\n",
      "db\\Victor\\victor1.jpg\n",
      "db\\Victor\\victor1.jpg\n",
      "db\\Victor\\victor1.jpg\n",
      "db\\Victor\\victor.jpg\n",
      "db\\Victor\\vic6.jpeg\n",
      "db\\Victor\\victor1.jpg\n",
      "db\\Victor\\vic13.jpg\n",
      "db\\Victor\\vic6.jpeg\n",
      "db\\Victor\\victor1.jpg\n",
      "db\\Victor\\vic8.jpeg\n",
      "db\\Victor\\victor1.jpg\n",
      "db\\Victor\\vic8.jpeg\n",
      "db\\Victor\\victor1.jpg\n",
      "db\\Victor\\victor1.jpg\n",
      "db\\Victor\\vic3.jpeg\n",
      "db\\Victor\\victor1.jpg\n",
      "db\\Victor\\vic3.jpeg\n",
      "db\\Victor\\victor1.jpg\n",
      "db\\Victor\\victor1.jpg\n",
      "db\\Victor\\victor1.jpg\n",
      "db\\Victor\\vic13.jpg\n",
      "db\\Victor\\vic13.jpg\n",
      "db\\Victor\\victor1.jpg\n",
      "db\\Victor\\vic8.jpeg\n",
      "db\\Victor\\vic6.jpeg\n",
      "db\\Victor\\victor1.jpg\n",
      "db\\Victor\\victor1.jpg\n",
      "db\\Victor\\vic10.jpeg\n"
     ]
    }
   ],
   "source": [
    "vid = cv2.VideoCapture(0)\n",
    "cv2.namedWindow('Reconocimiento Facial',cv2.WINDOW_NORMAL)\n",
    "\n",
    "mensajeAnterior = ''\n",
    "\n",
    "while True:\n",
    "    \n",
    "    ret,frame = vid.read()\n",
    "  \n",
    "    mensaje = reconocimiento(frame)\n",
    "\n",
    "    if mensaje != mensajeAnterior:\n",
    "        saludar(mensaje) \n",
    "\n",
    "    cv2.putText(frame,mensaje,(0,115),cv2.FONT_HERSHEY_SIMPLEX,1,(0,255,0))\n",
    "\n",
    "    cv2.imshow('Reconocimiento Facial',frame)\n",
    "    \n",
    "    if cv2.waitKey(1) == ord('q'):\n",
    "        break\n",
    "    mensajeAnterior = mensaje\n",
    "\n",
    "vid.release()\n",
    "cv2.destroyAllWindows()"
   ]
  }
 ],
 "metadata": {
  "kernelspec": {
   "display_name": "entornoOCV",
   "language": "python",
   "name": "python3"
  },
  "language_info": {
   "codemirror_mode": {
    "name": "ipython",
    "version": 3
   },
   "file_extension": ".py",
   "mimetype": "text/x-python",
   "name": "python",
   "nbconvert_exporter": "python",
   "pygments_lexer": "ipython3",
   "version": "3.12.3"
  }
 },
 "nbformat": 4,
 "nbformat_minor": 2
}
