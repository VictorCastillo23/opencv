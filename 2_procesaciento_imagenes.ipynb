{
 "cells": [
  {
   "cell_type": "code",
   "execution_count": 1,
   "metadata": {},
   "outputs": [],
   "source": [
    "import cv2\n",
    "import numpy as np"
   ]
  },
  {
   "cell_type": "code",
   "execution_count": 2,
   "metadata": {},
   "outputs": [],
   "source": [
    "image = cv2.imread(\"imgs/img1.jpg\")"
   ]
  },
  {
   "cell_type": "code",
   "execution_count": 3,
   "metadata": {},
   "outputs": [],
   "source": [
    "def show_filters(filters):\n",
    "\n",
    "    for filter_name, filtered_image in filters.items():\n",
    "\n",
    "        cv2.imshow(filter_name, filtered_image)\n",
    "\n",
    "        cv2.waitKey(0)\n",
    "        cv2.destroyAllWindows()"
   ]
  },
  {
   "cell_type": "markdown",
   "metadata": {},
   "source": [
    "# Filtros de color\n",
    "Estos filtros de color permiten trabajar con la imagen en distintos espacios de color, cada uno con aplicaciones específicas en procesamiento de imágenes, detección de objetos, y análisis de color"
   ]
  },
  {
   "cell_type": "code",
   "execution_count": 4,
   "metadata": {},
   "outputs": [],
   "source": [
    "color_filters = {\n",
    "    \"Escala de Grises\": cv2.cvtColor(image, cv2.COLOR_BGR2GRAY),\n",
    "    \"HSV\":      cv2.cvtColor(image, cv2.COLOR_BGR2HSV),\n",
    "    \"HLS\":      cv2.cvtColor(image, cv2.COLOR_BGR2HLS),\n",
    "    \"Lab\":      cv2.cvtColor(image, cv2.COLOR_BGR2Lab),\n",
    "    \"Luv\":      cv2.cvtColor(image, cv2.COLOR_BGR2Luv),\n",
    "    \"YUV\":      cv2.cvtColor(image, cv2.COLOR_BGR2YUV),\n",
    "    \"YCrCb\":    cv2.cvtColor(image, cv2.COLOR_BGR2YCrCb),\n",
    "    \"RGB\":      cv2.cvtColor(image, cv2.COLOR_BGR2RGB),\n",
    "    \"XYZ\":      cv2.cvtColor(image, cv2.COLOR_BGR2XYZ)\n",
    "}"
   ]
  },
  {
   "cell_type": "code",
   "execution_count": 5,
   "metadata": {},
   "outputs": [
    {
     "name": "stdout",
     "output_type": "stream",
     "text": [
      "-------------------------------------------------- \n",
      " Estos filtros de color permiten trabajar con la imagen en distintos espacios de color, cada uno con aplicaciones específicas en procesamiento de imágenes, detección de objetos, y análisis de color\n",
      "\n"
     ]
    }
   ],
   "source": [
    "print(50*\"-\",\"\\n Estos filtros de color permiten trabajar con la imagen en distintos espacios de color,\"+\n",
    "            \" cada uno con aplicaciones específicas en procesamiento de imágenes, detección de objetos, y análisis de color\\n\")\n",
    "show_filters(color_filters)\n"
   ]
  },
  {
   "cell_type": "markdown",
   "metadata": {},
   "source": [
    "# Filtros de Desenfoque\n",
    "Incluye los filtros que suavizan la imagen, como el desenfoque promedio, gaussiano, mediano y bilateral"
   ]
  },
  {
   "cell_type": "code",
   "execution_count": 6,
   "metadata": {},
   "outputs": [],
   "source": [
    "blur_filters = {\n",
    "    \"Desenfoque Promedio\":  cv2.blur(image, (5, 5)),\n",
    "    \"Desenfoque Gaussiano\": cv2.GaussianBlur(image, (5, 5), 0),\n",
    "    \"Desenfoque Mediano\":   cv2.medianBlur(image, 5),\n",
    "    \"Desenfoque Bilateral\": cv2.bilateralFilter(image, 9, 75, 75)\n",
    "}"
   ]
  },
  {
   "cell_type": "code",
   "execution_count": 7,
   "metadata": {},
   "outputs": [],
   "source": [
    "show_filters(blur_filters)\n"
   ]
  },
  {
   "cell_type": "markdown",
   "metadata": {},
   "source": [
    "# Filtros de Detección de Bordes\n",
    "Aquí tenemos filtros que realzan o detectan bordes, como Sobel, Scharr, Canny y Laplaciano"
   ]
  },
  {
   "cell_type": "code",
   "execution_count": 9,
   "metadata": {},
   "outputs": [],
   "source": [
    "gray_image = cv2.cvtColor(image, cv2.COLOR_BGR2GRAY)"
   ]
  },
  {
   "cell_type": "code",
   "execution_count": 10,
   "metadata": {},
   "outputs": [],
   "source": [
    "edge_detection_filters = {\n",
    "    \"Bordes Sobel X\":   cv2.Sobel(gray_image, cv2.CV_64F, 1, 0, ksize=5),\n",
    "    \"Bordes Sobel Y\":   cv2.Sobel(gray_image, cv2.CV_64F, 0, 1, ksize=5),\n",
    "    \"Bordes Canny\":     cv2.Canny(gray_image, 100, 200),\n",
    "    \"Realce Laplaciano\": cv2.Laplacian(gray_image, cv2.CV_64F)\n",
    "}"
   ]
  },
  {
   "cell_type": "code",
   "execution_count": 11,
   "metadata": {},
   "outputs": [],
   "source": [
    "show_filters(edge_detection_filters)"
   ]
  },
  {
   "cell_type": "markdown",
   "metadata": {},
   "source": [
    "# Filtros Morfológicos\n",
    "Son operaciones que modifican la estructura de las imágenes, como la erosión, dilatación, apertura, cierre y gradiente morfológico"
   ]
  },
  {
   "cell_type": "code",
   "execution_count": 12,
   "metadata": {},
   "outputs": [],
   "source": [
    "kernel = np.ones((5, 5), np.uint8)"
   ]
  },
  {
   "cell_type": "code",
   "execution_count": 13,
   "metadata": {},
   "outputs": [],
   "source": [
    "morphological_filters = {\n",
    "    \"Erosión\":      cv2.erode(image, kernel, iterations=1),\n",
    "    \"Dilatación\":   cv2.dilate(image, kernel, iterations=1),\n",
    "    \"Apertura\":     cv2.morphologyEx(image, cv2.MORPH_OPEN, kernel),\n",
    "    \"Cierre\":       cv2.morphologyEx(image, cv2.MORPH_CLOSE, kernel),\n",
    "    \"Gradiente Morfológico\": cv2.morphologyEx(image, cv2.MORPH_GRADIENT, kernel)\n",
    "}"
   ]
  },
  {
   "cell_type": "code",
   "execution_count": 14,
   "metadata": {},
   "outputs": [],
   "source": [
    "\n",
    "show_filters(morphological_filters)\n"
   ]
  },
  {
   "cell_type": "markdown",
   "metadata": {},
   "source": [
    "# Filtro de Ecualización\n",
    "Mejora el contraste de la imagen mediante la ecualización del histograma"
   ]
  },
  {
   "cell_type": "code",
   "execution_count": 15,
   "metadata": {},
   "outputs": [],
   "source": [
    "equalization_filter = {\n",
    "    \"Ecualización de Histograma\": cv2.equalizeHist(gray_image)\n",
    "}\n"
   ]
  },
  {
   "cell_type": "code",
   "execution_count": 16,
   "metadata": {},
   "outputs": [],
   "source": [
    "show_filters(equalization_filter)"
   ]
  }
 ],
 "metadata": {
  "kernelspec": {
   "display_name": "entornoOCV",
   "language": "python",
   "name": "python3"
  },
  "language_info": {
   "codemirror_mode": {
    "name": "ipython",
    "version": 3
   },
   "file_extension": ".py",
   "mimetype": "text/x-python",
   "name": "python",
   "nbconvert_exporter": "python",
   "pygments_lexer": "ipython3",
   "version": "3.12.3"
  }
 },
 "nbformat": 4,
 "nbformat_minor": 2
}
